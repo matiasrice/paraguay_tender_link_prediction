{
 "cells": [
  {
   "cell_type": "markdown",
   "id": "8c2df0c1",
   "metadata": {},
   "source": [
    "In order to run this notebook, you will need to download the raw data from the [DNCP website](https://www.contrataciones.gov.py/datos/adjudicaciones).\n",
    "- We named each folder as \"DNCP_Adjudicaciones_*year*\" after downloading, depending on the the year of the data it contained. Ex.: folder with data of 2020, was named \"DNCP_Adjudicaciones_2020\"."
   ]
  },
  {
   "cell_type": "code",
   "execution_count": 1,
   "id": "c280810c",
   "metadata": {},
   "outputs": [],
   "source": [
    "import pandas as pd\n",
    "import os\n",
    "import re"
   ]
  },
  {
   "cell_type": "markdown",
   "id": "32b69d6e",
   "metadata": {},
   "source": [
    "## Column Extraction with its examples"
   ]
  },
  {
   "cell_type": "markdown",
   "id": "530fb281",
   "metadata": {},
   "source": [
    "This section is just to extract the columns of the files in a document that also contains an example of the columns"
   ]
  },
  {
   "cell_type": "code",
   "execution_count": 2,
   "id": "2a5035e2",
   "metadata": {},
   "outputs": [],
   "source": [
    "ubi = '../data/raw_data/DNCP_Adjudicaciones_2020' #change for real location of the raw data folder"
   ]
  },
  {
   "cell_type": "code",
   "execution_count": 3,
   "id": "6f22b1cd",
   "metadata": {},
   "outputs": [],
   "source": [
    "files = os.listdir(ubi)"
   ]
  },
  {
   "cell_type": "code",
   "execution_count": 7,
   "id": "aafc14bb",
   "metadata": {},
   "outputs": [],
   "source": [
    "%cd ../data/raw_data/DNCP_Adjudicaciones_2020"
   ]
  },
  {
   "cell_type": "code",
   "execution_count": 9,
   "id": "653c8575",
   "metadata": {},
   "outputs": [],
   "source": [
    "pattern = '.+\\.csv'\n",
    "re_pattern = re.compile(pattern)\n",
    "c_files = [file_name for file_name in files if re_pattern.search(file_name)]"
   ]
  },
  {
   "cell_type": "code",
   "execution_count": 10,
   "id": "38469b5b",
   "metadata": {},
   "outputs": [
    {
     "name": "stderr",
     "output_type": "stream",
     "text": [
      "/var/folders/_6/l3fpk3z10lb5g2csy8ykd4lw0000gn/T/ipykernel_94852/79128179.py:7: DtypeWarning: Columns (3) have mixed types. Specify dtype option on import or set low_memory=False.\n",
      "  file = pd.read_csv('./'+file_name)\n",
      "/var/folders/_6/l3fpk3z10lb5g2csy8ykd4lw0000gn/T/ipykernel_94852/79128179.py:7: DtypeWarning: Columns (15) have mixed types. Specify dtype option on import or set low_memory=False.\n",
      "  file = pd.read_csv('./'+file_name)\n",
      "/var/folders/_6/l3fpk3z10lb5g2csy8ykd4lw0000gn/T/ipykernel_94852/79128179.py:7: DtypeWarning: Columns (60,61,62,63) have mixed types. Specify dtype option on import or set low_memory=False.\n",
      "  file = pd.read_csv('./'+file_name)\n"
     ]
    },
    {
     "data": {
      "text/html": [
       "<div>\n",
       "<style scoped>\n",
       "    .dataframe tbody tr th:only-of-type {\n",
       "        vertical-align: middle;\n",
       "    }\n",
       "\n",
       "    .dataframe tbody tr th {\n",
       "        vertical-align: top;\n",
       "    }\n",
       "\n",
       "    .dataframe thead th {\n",
       "        text-align: right;\n",
       "    }\n",
       "</style>\n",
       "<table border=\"1\" class=\"dataframe\">\n",
       "  <thead>\n",
       "    <tr style=\"text-align: right;\">\n",
       "      <th></th>\n",
       "      <th>Document</th>\n",
       "      <th>Column</th>\n",
       "      <th>Example</th>\n",
       "    </tr>\n",
       "  </thead>\n",
       "  <tbody>\n",
       "    <tr>\n",
       "      <th>0</th>\n",
       "      <td>awa_ite_attributes.csv</td>\n",
       "      <td>index</td>\n",
       "      <td>0</td>\n",
       "    </tr>\n",
       "    <tr>\n",
       "      <th>1</th>\n",
       "      <td>awa_ite_attributes.csv</td>\n",
       "      <td>compiledRelease/id</td>\n",
       "      <td>373381-adquisicion-velaglucerasa-alfa-algasida...</td>\n",
       "    </tr>\n",
       "    <tr>\n",
       "      <th>2</th>\n",
       "      <td>awa_ite_attributes.csv</td>\n",
       "      <td>compiledRelease/awards/0/id</td>\n",
       "      <td>373381-laboratorio-productos-eticos-c-e-i-s-a-2</td>\n",
       "    </tr>\n",
       "    <tr>\n",
       "      <th>3</th>\n",
       "      <td>awa_ite_attributes.csv</td>\n",
       "      <td>compiledRelease/awards/0/items/0/id</td>\n",
       "      <td>3zVmuGB38TXDlc8qb93fww==</td>\n",
       "    </tr>\n",
       "    <tr>\n",
       "      <th>4</th>\n",
       "      <td>awa_ite_attributes.csv</td>\n",
       "      <td>compiledRelease/awards/0/items/0/attributes/0/id</td>\n",
       "      <td>1</td>\n",
       "    </tr>\n",
       "  </tbody>\n",
       "</table>\n",
       "</div>"
      ],
      "text/plain": [
       "                 Document                                            Column  \\\n",
       "0  awa_ite_attributes.csv                                             index   \n",
       "1  awa_ite_attributes.csv                                compiledRelease/id   \n",
       "2  awa_ite_attributes.csv                       compiledRelease/awards/0/id   \n",
       "3  awa_ite_attributes.csv               compiledRelease/awards/0/items/0/id   \n",
       "4  awa_ite_attributes.csv  compiledRelease/awards/0/items/0/attributes/0/id   \n",
       "\n",
       "                                             Example  \n",
       "0                                                  0  \n",
       "1  373381-adquisicion-velaglucerasa-alfa-algasida...  \n",
       "2    373381-laboratorio-productos-eticos-c-e-i-s-a-2  \n",
       "3                           3zVmuGB38TXDlc8qb93fww==  \n",
       "4                                                  1  "
      ]
     },
     "execution_count": 10,
     "metadata": {},
     "output_type": "execute_result"
    }
   ],
   "source": [
    "doc = []\n",
    "col = []\n",
    "example = []\n",
    "\n",
    "\n",
    "for file_name in c_files:\n",
    "    file = pd.read_csv('./'+file_name)\n",
    "    if file_name not in ['awa_items.csv', 'records.csv', 'awards.csv']:\n",
    "        file.dropna(inplace=True)\n",
    "        file.reset_index(inplace=True)\n",
    "    col += file.columns.to_list()\n",
    "    doc += [file_name]*len(file.columns)\n",
    "    example += file.iloc[0,:].to_list()\n",
    "\n",
    "df = pd.DataFrame({'Document':doc, 'Column':col, 'Example':example})\n",
    "df.head()"
   ]
  },
  {
   "cell_type": "code",
   "execution_count": 13,
   "id": "f4397e18",
   "metadata": {},
   "outputs": [],
   "source": [
    "df.to_excel('DNCP_columns.xlsx', index=False)"
   ]
  },
  {
   "cell_type": "markdown",
   "id": "a5fe26a1",
   "metadata": {},
   "source": [
    "# Data Wrangling"
   ]
  },
  {
   "cell_type": "code",
   "execution_count": 16,
   "id": "bf55a2d3",
   "metadata": {},
   "outputs": [],
   "source": [
    "ubi = '../' #change with the directory of the folders\n",
    "ubi_suppliers = 'awa_suppliers.csv'\n",
    "ubi_records = 'records.csv'\n",
    "ubi_awards = 'awards.csv'\n",
    "\n",
    "important_columns = '../DNCP_columnas.xlsx'\n",
    "\n",
    "folder_name = 'DNCP_Adjudicaciones_'\n",
    "\n",
    "start_year = 2013\n",
    "end_year = 2023"
   ]
  },
  {
   "cell_type": "code",
   "execution_count": 17,
   "id": "e64d93be",
   "metadata": {},
   "outputs": [],
   "source": [
    "col_data = pd.read_excel(ubi+important_columns)\n",
    "col_data = col_data[col_data['Compile']=='y']\n",
    "\n",
    "dic_col = {}\n",
    "\n",
    "for row in range(col_data.shape[0]):\n",
    "    doc = col_data.loc[row, 'Document']\n",
    "    col = col_data.loc[row, 'Column']\n",
    "    if doc in dic_col:\n",
    "        dic_col[doc].append(col)\n",
    "    else:\n",
    "        dic_col[doc] = [col]"
   ]
  },
  {
   "cell_type": "markdown",
   "id": "fde8cfa3",
   "metadata": {},
   "source": [
    "### Institution - Supplier - Amount"
   ]
  },
  {
   "cell_type": "markdown",
   "id": "d346a06c",
   "metadata": {},
   "source": [
    "#### Filtering - Supplier"
   ]
  },
  {
   "cell_type": "code",
   "execution_count": 18,
   "id": "b67b1697",
   "metadata": {},
   "outputs": [],
   "source": [
    "re_pattern = re.compile('PY-RUC.+')"
   ]
  },
  {
   "cell_type": "code",
   "execution_count": 19,
   "id": "09f2b9ff",
   "metadata": {},
   "outputs": [],
   "source": [
    "### Paraguayan organization"
   ]
  },
  {
   "cell_type": "code",
   "execution_count": 20,
   "id": "7faa9ad4",
   "metadata": {
    "scrolled": true
   },
   "outputs": [
    {
     "name": "stdout",
     "output_type": "stream",
     "text": [
      "{2013: [29788, 40], 2014: [13376, 42], 2015: [11241, 37], 2016: [11357, 25], 2017: [12097, 24], 2018: [11508, 32], 2019: [30045, 124], 2020: [7395, 20], 2021: [7815, 29], 2022: [25554, 36], 2023: [16468, 32]}\n",
      "Total Paraguayan Suppliers: 176644\n"
     ]
    }
   ],
   "source": [
    "supplier_origin = {}\n",
    "total_suppliers = 0\n",
    "for year in range(start_year,end_year+1):\n",
    "    suppliers = pd.read_csv(ubi+folder_name+str(year)+'/'+ubi_suppliers)\n",
    "    suppliers = suppliers[dic_col[ubi_suppliers]]\n",
    "    suppliers = suppliers.drop_duplicates(['compiledRelease/id','compiledRelease/awards/0/suppliers/0/id'])\n",
    "\n",
    "    sup_orig = suppliers['compiledRelease/awards/0/suppliers/0/id'].map(lambda row: bool(re_pattern.search(row)))\n",
    "    sup_pyo = sup_orig.sum()\n",
    "    sup_for = sup_orig.count() - sup_pyo\n",
    "    \n",
    "    supplier_origin[year] = [sup_pyo, sup_for]\n",
    "    total_suppliers += sup_pyo\n",
    "    \n",
    "print(supplier_origin)\n",
    "print(f'Total Paraguayan Suppliers: {total_suppliers}')"
   ]
  },
  {
   "cell_type": "code",
   "execution_count": 136,
   "id": "91238407",
   "metadata": {},
   "outputs": [
    {
     "data": {
      "text/plain": [
       "(176644, 6)"
      ]
     },
     "execution_count": 136,
     "metadata": {},
     "output_type": "execute_result"
    }
   ],
   "source": [
    "first_data = True\n",
    "for year in range(start_year, end_year+1):\n",
    "    suppliers = pd.read_csv(ubi+folder_name+str(year)+'/'+ubi_suppliers)\n",
    "    suppliers = suppliers[dic_col[ubi_suppliers]]\n",
    "    suppliers['Paraguayan'] = suppliers['compiledRelease/awards/0/suppliers/0/id'] \\\n",
    "                              .map(lambda row: bool(re_pattern.search(row)))\n",
    "    suppliers['Year'] = year\n",
    "    suppliers = suppliers[suppliers['Paraguayan']==True]\n",
    "\n",
    "    \n",
    "    if first_data:\n",
    "        all_suppliers = suppliers.copy()\n",
    "        first_data = False\n",
    "    \n",
    "    else:\n",
    "        all_suppliers = pd.concat([all_suppliers, suppliers])\n",
    "\n",
    "all_suppliers = all_suppliers.drop_duplicates(['compiledRelease/id','compiledRelease/awards/0/suppliers/0/id'])\n",
    "all_suppliers.shape"
   ]
  },
  {
   "cell_type": "code",
   "execution_count": 141,
   "id": "d3674e02",
   "metadata": {},
   "outputs": [],
   "source": [
    "all_suppliers.to_csv('../../clean_supplers.csv')"
   ]
  },
  {
   "cell_type": "markdown",
   "id": "6886d983",
   "metadata": {},
   "source": [
    "#### Filtering - Awards Records"
   ]
  },
  {
   "cell_type": "code",
   "execution_count": 149,
   "id": "6e51a678",
   "metadata": {},
   "outputs": [
    {
     "name": "stderr",
     "output_type": "stream",
     "text": [
      "/Users/matiasromeromoriya/miniconda3/lib/python3.10/site-packages/IPython/core/interactiveshell.py:3460: DtypeWarning: Columns (60,61,62,63) have mixed types.Specify dtype option on import or set low_memory=False.\n",
      "  exec(code_obj, self.user_global_ns, self.user_ns)\n",
      "/Users/matiasromeromoriya/miniconda3/lib/python3.10/site-packages/IPython/core/interactiveshell.py:3460: DtypeWarning: Columns (64,65) have mixed types.Specify dtype option on import or set low_memory=False.\n",
      "  exec(code_obj, self.user_global_ns, self.user_ns)\n",
      "/Users/matiasromeromoriya/miniconda3/lib/python3.10/site-packages/IPython/core/interactiveshell.py:3460: DtypeWarning: Columns (62,63,64,65) have mixed types.Specify dtype option on import or set low_memory=False.\n",
      "  exec(code_obj, self.user_global_ns, self.user_ns)\n",
      "/Users/matiasromeromoriya/miniconda3/lib/python3.10/site-packages/IPython/core/interactiveshell.py:3460: DtypeWarning: Columns (62,63) have mixed types.Specify dtype option on import or set low_memory=False.\n",
      "  exec(code_obj, self.user_global_ns, self.user_ns)\n"
     ]
    },
    {
     "data": {
      "text/plain": [
       "(197504, 5)"
      ]
     },
     "execution_count": 149,
     "metadata": {},
     "output_type": "execute_result"
    }
   ],
   "source": [
    "first_data = True\n",
    "for year in range(start_year, end_year+1):\n",
    "    records = pd.read_csv(ubi+folder_name+str(year)+'/'+ubi_records)\n",
    "    records = records[['compiledRelease/buyer/id','compiledRelease/buyer/name', \n",
    "                   'compiledRelease/tender/mainProcurementCategoryDetails',\n",
    "                  'compiledRelease/id']]\n",
    "    records['Year'] = year\n",
    "    \n",
    "    if first_data:\n",
    "        all_records = records.copy()\n",
    "        first_data = False\n",
    "    \n",
    "    else:\n",
    "        all_records = pd.concat([all_records, records])\n",
    "        \n",
    "all_records = all_records.drop_duplicates(['compiledRelease/id', 'compiledRelease/buyer/id'])\n",
    "\n",
    "#elimina los que no tienen categoría en el servicio\n",
    "all_records = all_records[pd.notna(all_records['compiledRelease/tender/mainProcurementCategoryDetails'])]\n",
    "\n",
    "#elimina los que no tienen institución compradora\n",
    "all_records = all_records[pd.notna(all_records['compiledRelease/buyer/id'])]\n",
    "\n",
    "all_records.shape"
   ]
  },
  {
   "cell_type": "code",
   "execution_count": 150,
   "id": "79522aad",
   "metadata": {},
   "outputs": [],
   "source": [
    "all_records.to_csv('../../clean_records.csv')"
   ]
  },
  {
   "cell_type": "code",
   "execution_count": 173,
   "id": "77a41e2e",
   "metadata": {},
   "outputs": [
    {
     "data": {
      "text/plain": [
       "Ministerio de Salud Pública y Bienestar Social (MSPBS)    10270\n",
       "Universidad Nacional de Asunción (UNA)                     9604\n",
       "Presidencia de la República                                9047\n",
       "Corte Suprema de Justicia (CSJ)                            6509\n",
       "Ministerio de Defensa Nacional (MDN)                       6173\n",
       "                                                          ...  \n",
       "Municipalidad de Campo Aceval                                17\n",
       "Municipalidad de San Jose Del Rosario                        17\n",
       "Instituto Nacional del Audiovisual Paraguayo (INAP)          15\n",
       "Dirección Nacional de Vigilancia Sanitaria  (DINAVISA)       15\n",
       "Municipalidad de Itacua                                       6\n",
       "Name: compiledRelease/buyer/name, Length: 375, dtype: int64"
      ]
     },
     "execution_count": 173,
     "metadata": {},
     "output_type": "execute_result"
    }
   ],
   "source": [
    "all_records['compiledRelease/buyer/name'].value_counts()"
   ]
  },
  {
   "cell_type": "code",
   "execution_count": 174,
   "id": "ab351344",
   "metadata": {},
   "outputs": [
    {
     "data": {
      "text/plain": [
       "DNCP-SICP-CODE-306    10270\n",
       "DNCP-SICP-CODE-226     9604\n",
       "DNCP-SICP-CODE-301     9047\n",
       "DNCP-SICP-CODE-21      6509\n",
       "DNCP-SICP-CODE-304     6173\n",
       "                      ...  \n",
       "DNCP-SICP-CODE-383       17\n",
       "DNCP-SICP-CODE-384       17\n",
       "DNCP-SICP-CODE-386       15\n",
       "DNCP-SICP-CODE-390       15\n",
       "DNCP-SICP-CODE-387        6\n",
       "Name: compiledRelease/buyer/id, Length: 375, dtype: int64"
      ]
     },
     "execution_count": 174,
     "metadata": {},
     "output_type": "execute_result"
    }
   ],
   "source": [
    "all_records['compiledRelease/buyer/id'].value_counts()"
   ]
  },
  {
   "cell_type": "markdown",
   "id": "ec91b140",
   "metadata": {},
   "source": [
    "#### Filtering - Awards details"
   ]
  },
  {
   "cell_type": "code",
   "execution_count": 21,
   "id": "16adb70d",
   "metadata": {},
   "outputs": [],
   "source": [
    "awards = pd.read_csv(ubi+folder_name+str(2020)+'/'+ubi_awards)"
   ]
  },
  {
   "cell_type": "code",
   "execution_count": 22,
   "id": "06a221b9",
   "metadata": {},
   "outputs": [],
   "source": [
    "awards = awards[dic_col[ubi_awards]]"
   ]
  },
  {
   "cell_type": "code",
   "execution_count": 23,
   "id": "c23c0850",
   "metadata": {},
   "outputs": [],
   "source": [
    "awards = awards[(awards['compiledRelease/awards/0/statusDetails']=='Adjudicado') & \n",
    "                (awards['compiledRelease/awards/0/value/currency']=='PYG')]"
   ]
  },
  {
   "cell_type": "code",
   "execution_count": 24,
   "id": "9c757dd2",
   "metadata": {},
   "outputs": [
    {
     "data": {
      "text/html": [
       "<div>\n",
       "<style scoped>\n",
       "    .dataframe tbody tr th:only-of-type {\n",
       "        vertical-align: middle;\n",
       "    }\n",
       "\n",
       "    .dataframe tbody tr th {\n",
       "        vertical-align: top;\n",
       "    }\n",
       "\n",
       "    .dataframe thead th {\n",
       "        text-align: right;\n",
       "    }\n",
       "</style>\n",
       "<table border=\"1\" class=\"dataframe\">\n",
       "  <thead>\n",
       "    <tr style=\"text-align: right;\">\n",
       "      <th></th>\n",
       "      <th>compiledRelease/awards/0/statusDetails</th>\n",
       "      <th>compiledRelease/awards/0/value/amount</th>\n",
       "      <th>compiledRelease/awards/0/value/currency</th>\n",
       "      <th>compiledRelease/awards/0/id</th>\n",
       "      <th>compiledRelease/id</th>\n",
       "    </tr>\n",
       "  </thead>\n",
       "  <tbody>\n",
       "    <tr>\n",
       "      <th>0</th>\n",
       "      <td>Adjudicado</td>\n",
       "      <td>3720131184</td>\n",
       "      <td>PYG</td>\n",
       "      <td>373381-laboratorio-productos-eticos-c-e-i-s-a-2</td>\n",
       "      <td>373381-adquisicion-velaglucerasa-alfa-algasida...</td>\n",
       "    </tr>\n",
       "    <tr>\n",
       "      <th>1</th>\n",
       "      <td>Adjudicado</td>\n",
       "      <td>506063415</td>\n",
       "      <td>PYG</td>\n",
       "      <td>371497-luis-dario-benitez-jara-1</td>\n",
       "      <td>371497-construccion-pavimento-tipo-empedrado-a...</td>\n",
       "    </tr>\n",
       "    <tr>\n",
       "      <th>2</th>\n",
       "      <td>Adjudicado</td>\n",
       "      <td>4607750</td>\n",
       "      <td>PYG</td>\n",
       "      <td>371508-fulgencio-ramon-barcelo-cabrera-1</td>\n",
       "      <td>371508-construccion-camara-septica-drenaje-agu...</td>\n",
       "    </tr>\n",
       "    <tr>\n",
       "      <th>3</th>\n",
       "      <td>Adjudicado</td>\n",
       "      <td>10000000</td>\n",
       "      <td>PYG</td>\n",
       "      <td>371679-mara-lia-gonzalez-cabrera-1</td>\n",
       "      <td>371679-elaboracion-proyecto-inversion-ciudad-a...</td>\n",
       "    </tr>\n",
       "    <tr>\n",
       "      <th>4</th>\n",
       "      <td>Adjudicado</td>\n",
       "      <td>3126415914</td>\n",
       "      <td>PYG</td>\n",
       "      <td>371719-miguel-vicente-zarate-irala-2</td>\n",
       "      <td>371719-restauracion-espacios-publicos-1-157918...</td>\n",
       "    </tr>\n",
       "    <tr>\n",
       "      <th>...</th>\n",
       "      <td>...</td>\n",
       "      <td>...</td>\n",
       "      <td>...</td>\n",
       "      <td>...</td>\n",
       "      <td>...</td>\n",
       "    </tr>\n",
       "    <tr>\n",
       "      <th>7500</th>\n",
       "      <td>Adjudicado</td>\n",
       "      <td>300562300</td>\n",
       "      <td>PYG</td>\n",
       "      <td>376576-comtel-sociedad-anonima-5</td>\n",
       "      <td>376576-lp1576-20-adquisicion-equipos-control-e...</td>\n",
       "    </tr>\n",
       "    <tr>\n",
       "      <th>7501</th>\n",
       "      <td>Adjudicado</td>\n",
       "      <td>351698100</td>\n",
       "      <td>PYG</td>\n",
       "      <td>376576-data-lab-sa-3</td>\n",
       "      <td>376576-lp1576-20-adquisicion-equipos-control-e...</td>\n",
       "    </tr>\n",
       "    <tr>\n",
       "      <th>7502</th>\n",
       "      <td>Adjudicado</td>\n",
       "      <td>200000000</td>\n",
       "      <td>PYG</td>\n",
       "      <td>376597-alejandro-recalde-mora-2</td>\n",
       "      <td>376597-cambio-alfombras-persianas-mamparas-1-1...</td>\n",
       "    </tr>\n",
       "    <tr>\n",
       "      <th>7503</th>\n",
       "      <td>Adjudicado</td>\n",
       "      <td>200000000</td>\n",
       "      <td>PYG</td>\n",
       "      <td>376681-nancy-larroza-insaurralde-1</td>\n",
       "      <td>376681-adquisicion-ambulancia-1-1607338081</td>\n",
       "    </tr>\n",
       "    <tr>\n",
       "      <th>7505</th>\n",
       "      <td>Adjudicado</td>\n",
       "      <td>516955500</td>\n",
       "      <td>PYG</td>\n",
       "      <td>384409-carlos-alberto-perales-ortellado-1</td>\n",
       "      <td>384409-mantenimiento-reparacion-preventivo-cor...</td>\n",
       "    </tr>\n",
       "  </tbody>\n",
       "</table>\n",
       "<p>7342 rows × 5 columns</p>\n",
       "</div>"
      ],
      "text/plain": [
       "     compiledRelease/awards/0/statusDetails  \\\n",
       "0                                Adjudicado   \n",
       "1                                Adjudicado   \n",
       "2                                Adjudicado   \n",
       "3                                Adjudicado   \n",
       "4                                Adjudicado   \n",
       "...                                     ...   \n",
       "7500                             Adjudicado   \n",
       "7501                             Adjudicado   \n",
       "7502                             Adjudicado   \n",
       "7503                             Adjudicado   \n",
       "7505                             Adjudicado   \n",
       "\n",
       "      compiledRelease/awards/0/value/amount  \\\n",
       "0                                3720131184   \n",
       "1                                 506063415   \n",
       "2                                   4607750   \n",
       "3                                  10000000   \n",
       "4                                3126415914   \n",
       "...                                     ...   \n",
       "7500                              300562300   \n",
       "7501                              351698100   \n",
       "7502                              200000000   \n",
       "7503                              200000000   \n",
       "7505                              516955500   \n",
       "\n",
       "     compiledRelease/awards/0/value/currency  \\\n",
       "0                                        PYG   \n",
       "1                                        PYG   \n",
       "2                                        PYG   \n",
       "3                                        PYG   \n",
       "4                                        PYG   \n",
       "...                                      ...   \n",
       "7500                                     PYG   \n",
       "7501                                     PYG   \n",
       "7502                                     PYG   \n",
       "7503                                     PYG   \n",
       "7505                                     PYG   \n",
       "\n",
       "                          compiledRelease/awards/0/id  \\\n",
       "0     373381-laboratorio-productos-eticos-c-e-i-s-a-2   \n",
       "1                    371497-luis-dario-benitez-jara-1   \n",
       "2            371508-fulgencio-ramon-barcelo-cabrera-1   \n",
       "3                  371679-mara-lia-gonzalez-cabrera-1   \n",
       "4                371719-miguel-vicente-zarate-irala-2   \n",
       "...                                               ...   \n",
       "7500                 376576-comtel-sociedad-anonima-5   \n",
       "7501                             376576-data-lab-sa-3   \n",
       "7502                  376597-alejandro-recalde-mora-2   \n",
       "7503               376681-nancy-larroza-insaurralde-1   \n",
       "7505        384409-carlos-alberto-perales-ortellado-1   \n",
       "\n",
       "                                     compiledRelease/id  \n",
       "0     373381-adquisicion-velaglucerasa-alfa-algasida...  \n",
       "1     371497-construccion-pavimento-tipo-empedrado-a...  \n",
       "2     371508-construccion-camara-septica-drenaje-agu...  \n",
       "3     371679-elaboracion-proyecto-inversion-ciudad-a...  \n",
       "4     371719-restauracion-espacios-publicos-1-157918...  \n",
       "...                                                 ...  \n",
       "7500  376576-lp1576-20-adquisicion-equipos-control-e...  \n",
       "7501  376576-lp1576-20-adquisicion-equipos-control-e...  \n",
       "7502  376597-cambio-alfombras-persianas-mamparas-1-1...  \n",
       "7503         376681-adquisicion-ambulancia-1-1607338081  \n",
       "7505  384409-mantenimiento-reparacion-preventivo-cor...  \n",
       "\n",
       "[7342 rows x 5 columns]"
      ]
     },
     "execution_count": 24,
     "metadata": {},
     "output_type": "execute_result"
    }
   ],
   "source": [
    "awards.drop_duplicates(['compiledRelease/awards/0/id','compiledRelease/id'])"
   ]
  },
  {
   "cell_type": "code",
   "execution_count": 170,
   "id": "eb71a67b",
   "metadata": {},
   "outputs": [
    {
     "data": {
      "text/plain": [
       "(177822, 6)"
      ]
     },
     "execution_count": 170,
     "metadata": {},
     "output_type": "execute_result"
    }
   ],
   "source": [
    "first_data = True\n",
    "for year in range(start_year, end_year+1):\n",
    "    awards = pd.read_csv(ubi+folder_name+str(year)+'/'+ubi_awards)\n",
    "    awards = awards[dic_col[ubi_awards]]\n",
    "    awards['Year'] = year\n",
    "    awards = awards[(awards['compiledRelease/awards/0/statusDetails']=='Adjudicado') & \n",
    "                (awards['compiledRelease/awards/0/value/currency']=='PYG')]\n",
    "    \n",
    "    if first_data:\n",
    "        all_awards = awards.copy()\n",
    "        first_data = False\n",
    "    \n",
    "    else:\n",
    "        all_awards = pd.concat([all_awards, awards])\n",
    "        \n",
    "all_awards.shape"
   ]
  },
  {
   "cell_type": "code",
   "execution_count": 178,
   "id": "30203b58",
   "metadata": {},
   "outputs": [
    {
     "data": {
      "text/html": [
       "<div>\n",
       "<style scoped>\n",
       "    .dataframe tbody tr th:only-of-type {\n",
       "        vertical-align: middle;\n",
       "    }\n",
       "\n",
       "    .dataframe tbody tr th {\n",
       "        vertical-align: top;\n",
       "    }\n",
       "\n",
       "    .dataframe thead th {\n",
       "        text-align: right;\n",
       "    }\n",
       "</style>\n",
       "<table border=\"1\" class=\"dataframe\">\n",
       "  <thead>\n",
       "    <tr style=\"text-align: right;\">\n",
       "      <th></th>\n",
       "      <th>compiledRelease/awards/0/statusDetails</th>\n",
       "      <th>compiledRelease/awards/0/value/amount</th>\n",
       "      <th>compiledRelease/awards/0/value/currency</th>\n",
       "      <th>compiledRelease/awards/0/id</th>\n",
       "      <th>compiledRelease/id</th>\n",
       "      <th>Year</th>\n",
       "    </tr>\n",
       "  </thead>\n",
       "  <tbody>\n",
       "    <tr>\n",
       "      <th>0</th>\n",
       "      <td>Adjudicado</td>\n",
       "      <td>416301530</td>\n",
       "      <td>PYG</td>\n",
       "      <td>245280-b-braun-medical-paraguay-s-a-37</td>\n",
       "      <td>245280-lpn-06-12-adquisicion-insumos-regiones-...</td>\n",
       "      <td>2013</td>\n",
       "    </tr>\n",
       "    <tr>\n",
       "      <th>1</th>\n",
       "      <td>Adjudicado</td>\n",
       "      <td>123052000</td>\n",
       "      <td>PYG</td>\n",
       "      <td>245280-cateteres-afines-s-a-35</td>\n",
       "      <td>245280-lpn-06-12-adquisicion-insumos-regiones-...</td>\n",
       "      <td>2013</td>\n",
       "    </tr>\n",
       "    <tr>\n",
       "      <th>2</th>\n",
       "      <td>Adjudicado</td>\n",
       "      <td>944559860</td>\n",
       "      <td>PYG</td>\n",
       "      <td>245280-chaco-internacional-sa-26</td>\n",
       "      <td>245280-lpn-06-12-adquisicion-insumos-regiones-...</td>\n",
       "      <td>2013</td>\n",
       "    </tr>\n",
       "    <tr>\n",
       "      <th>3</th>\n",
       "      <td>Adjudicado</td>\n",
       "      <td>218202620</td>\n",
       "      <td>PYG</td>\n",
       "      <td>245280-codex-s-r-l-32</td>\n",
       "      <td>245280-lpn-06-12-adquisicion-insumos-regiones-...</td>\n",
       "      <td>2013</td>\n",
       "    </tr>\n",
       "    <tr>\n",
       "      <th>4</th>\n",
       "      <td>Adjudicado</td>\n",
       "      <td>10965400</td>\n",
       "      <td>PYG</td>\n",
       "      <td>245280-d-d-distribuidora-sa-33</td>\n",
       "      <td>245280-lpn-06-12-adquisicion-insumos-regiones-...</td>\n",
       "      <td>2013</td>\n",
       "    </tr>\n",
       "    <tr>\n",
       "      <th>...</th>\n",
       "      <td>...</td>\n",
       "      <td>...</td>\n",
       "      <td>...</td>\n",
       "      <td>...</td>\n",
       "      <td>...</td>\n",
       "      <td>...</td>\n",
       "    </tr>\n",
       "    <tr>\n",
       "      <th>37739</th>\n",
       "      <td>Adjudicado</td>\n",
       "      <td>68038000</td>\n",
       "      <td>PYG</td>\n",
       "      <td>429626-francisco-sabino-rotela-lopez-1</td>\n",
       "      <td>429626-adquisicion-mobiliarios-instituciones-e...</td>\n",
       "      <td>2023</td>\n",
       "    </tr>\n",
       "    <tr>\n",
       "      <th>37740</th>\n",
       "      <td>Adjudicado</td>\n",
       "      <td>88674120</td>\n",
       "      <td>PYG</td>\n",
       "      <td>430097-alsa-s-a-1</td>\n",
       "      <td>430097-construccion-capilla-cruz-mayor-1-16958...</td>\n",
       "      <td>2023</td>\n",
       "    </tr>\n",
       "    <tr>\n",
       "      <th>37741</th>\n",
       "      <td>Adjudicado</td>\n",
       "      <td>1564062569</td>\n",
       "      <td>PYG</td>\n",
       "      <td>430974-eduardo-agustin-1</td>\n",
       "      <td>430974-trabajos-mejoras-usf-distritos-departam...</td>\n",
       "      <td>2023</td>\n",
       "    </tr>\n",
       "    <tr>\n",
       "      <th>37742</th>\n",
       "      <td>Adjudicado</td>\n",
       "      <td>89757362</td>\n",
       "      <td>PYG</td>\n",
       "      <td>432465-rosana-mayumi-kasuga-miranda-1</td>\n",
       "      <td>432465-terminacion-sanitario-paseo-teros-1-169...</td>\n",
       "      <td>2023</td>\n",
       "    </tr>\n",
       "    <tr>\n",
       "      <th>37743</th>\n",
       "      <td>Adjudicado</td>\n",
       "      <td>287280000</td>\n",
       "      <td>PYG</td>\n",
       "      <td>433523-paam-sociedad-anonima-2</td>\n",
       "      <td>433523-alquiler-inmueble-determinado-bibliotec...</td>\n",
       "      <td>2023</td>\n",
       "    </tr>\n",
       "  </tbody>\n",
       "</table>\n",
       "<p>177822 rows × 6 columns</p>\n",
       "</div>"
      ],
      "text/plain": [
       "      compiledRelease/awards/0/statusDetails  \\\n",
       "0                                 Adjudicado   \n",
       "1                                 Adjudicado   \n",
       "2                                 Adjudicado   \n",
       "3                                 Adjudicado   \n",
       "4                                 Adjudicado   \n",
       "...                                      ...   \n",
       "37739                             Adjudicado   \n",
       "37740                             Adjudicado   \n",
       "37741                             Adjudicado   \n",
       "37742                             Adjudicado   \n",
       "37743                             Adjudicado   \n",
       "\n",
       "       compiledRelease/awards/0/value/amount  \\\n",
       "0                                  416301530   \n",
       "1                                  123052000   \n",
       "2                                  944559860   \n",
       "3                                  218202620   \n",
       "4                                   10965400   \n",
       "...                                      ...   \n",
       "37739                               68038000   \n",
       "37740                               88674120   \n",
       "37741                             1564062569   \n",
       "37742                               89757362   \n",
       "37743                              287280000   \n",
       "\n",
       "      compiledRelease/awards/0/value/currency  \\\n",
       "0                                         PYG   \n",
       "1                                         PYG   \n",
       "2                                         PYG   \n",
       "3                                         PYG   \n",
       "4                                         PYG   \n",
       "...                                       ...   \n",
       "37739                                     PYG   \n",
       "37740                                     PYG   \n",
       "37741                                     PYG   \n",
       "37742                                     PYG   \n",
       "37743                                     PYG   \n",
       "\n",
       "                  compiledRelease/awards/0/id  \\\n",
       "0      245280-b-braun-medical-paraguay-s-a-37   \n",
       "1              245280-cateteres-afines-s-a-35   \n",
       "2            245280-chaco-internacional-sa-26   \n",
       "3                       245280-codex-s-r-l-32   \n",
       "4              245280-d-d-distribuidora-sa-33   \n",
       "...                                       ...   \n",
       "37739  429626-francisco-sabino-rotela-lopez-1   \n",
       "37740                       430097-alsa-s-a-1   \n",
       "37741                430974-eduardo-agustin-1   \n",
       "37742   432465-rosana-mayumi-kasuga-miranda-1   \n",
       "37743          433523-paam-sociedad-anonima-2   \n",
       "\n",
       "                                      compiledRelease/id  Year  \n",
       "0      245280-lpn-06-12-adquisicion-insumos-regiones-...  2013  \n",
       "1      245280-lpn-06-12-adquisicion-insumos-regiones-...  2013  \n",
       "2      245280-lpn-06-12-adquisicion-insumos-regiones-...  2013  \n",
       "3      245280-lpn-06-12-adquisicion-insumos-regiones-...  2013  \n",
       "4      245280-lpn-06-12-adquisicion-insumos-regiones-...  2013  \n",
       "...                                                  ...   ...  \n",
       "37739  429626-adquisicion-mobiliarios-instituciones-e...  2023  \n",
       "37740  430097-construccion-capilla-cruz-mayor-1-16958...  2023  \n",
       "37741  430974-trabajos-mejoras-usf-distritos-departam...  2023  \n",
       "37742  432465-terminacion-sanitario-paseo-teros-1-169...  2023  \n",
       "37743  433523-alquiler-inmueble-determinado-bibliotec...  2023  \n",
       "\n",
       "[177822 rows x 6 columns]"
      ]
     },
     "execution_count": 178,
     "metadata": {},
     "output_type": "execute_result"
    }
   ],
   "source": [
    "all_awards"
   ]
  },
  {
   "cell_type": "code",
   "execution_count": 179,
   "id": "9aeb64de",
   "metadata": {},
   "outputs": [],
   "source": [
    "all_awards.to_csv('../../clean_awards.csv')"
   ]
  },
  {
   "cell_type": "code",
   "execution_count": null,
   "id": "9a6d32c8",
   "metadata": {},
   "outputs": [],
   "source": []
  }
 ],
 "metadata": {
  "kernelspec": {
   "display_name": "Python 3 (ipykernel)",
   "language": "python",
   "name": "python3"
  },
  "language_info": {
   "codemirror_mode": {
    "name": "ipython",
    "version": 3
   },
   "file_extension": ".py",
   "mimetype": "text/x-python",
   "name": "python",
   "nbconvert_exporter": "python",
   "pygments_lexer": "ipython3",
   "version": "3.10.9"
  }
 },
 "nbformat": 4,
 "nbformat_minor": 5
}
